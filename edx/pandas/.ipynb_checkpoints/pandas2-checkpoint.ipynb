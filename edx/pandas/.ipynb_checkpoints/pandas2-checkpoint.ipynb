{
 "cells": [
  {
   "cell_type": "code",
   "execution_count": 18,
   "metadata": {},
   "outputs": [],
   "source": [
    "import os\n",
    "import pandas as pd\n",
    "fichero=os.path.join(os.getcwd(),'datasets\\\\avocado.csv')\n",
    "df=pd.read_csv(fichero)\n",
    "#pasamos la fecha a tipo fecha\n",
    "df['Date']=pd.to_datetime(df['Date'])\n",
    "df.head()\n",
    "albany_df=df[df['region']=='Albany']\n",
    "albany_df.set_index('Date', inplace=True)\n",
    "#albany_df['AveragePrice'].plot()"
   ]
  },
  {
   "cell_type": "code",
   "execution_count": null,
   "metadata": {},
   "outputs": [],
   "source": []
  },
  {
   "cell_type": "code",
   "execution_count": null,
   "metadata": {},
   "outputs": [],
   "source": []
  }
 ],
 "metadata": {
  "kernelspec": {
   "display_name": "Python 3",
   "language": "python",
   "name": "python3"
  },
  "language_info": {
   "codemirror_mode": {
    "name": "ipython",
    "version": 3
   },
   "file_extension": ".py",
   "mimetype": "text/x-python",
   "name": "python",
   "nbconvert_exporter": "python",
   "pygments_lexer": "ipython3",
   "version": "3.7.2"
  }
 },
 "nbformat": 4,
 "nbformat_minor": 4
}
